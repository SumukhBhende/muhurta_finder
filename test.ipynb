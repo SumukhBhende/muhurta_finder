{
 "cells": [
  {
   "cell_type": "markdown",
   "id": "ec5bb479",
   "metadata": {},
   "source": [
    "```\n",
    "    ok so this returns chanrabalam is good till what time if chandrabalam is good, else returns next time when chandrabalam will get good. same for tarabalam.\n",
    "\n",
    "    in muhurt logic, I want to give the start date and end date in which i want to check for good muhurt, in those days from 00:00:00 of start date to 23:59:59 of end date i want to check all good chandrabalam durations, all good tarabalam durations and all good choghadiya muhurtas\n",
    "```"
   ]
  },
  {
   "cell_type": "code",
   "execution_count": 48,
   "id": "9432b311",
   "metadata": {},
   "outputs": [],
   "source": [
    "import requests\n",
    "from requests.auth import HTTPBasicAuth\n",
    "import urllib.parse\n",
    "\n",
    "# Replace with your actual credentials\n",
    "client_id = '9bdaed80-8825-4adf-ac0b-2dd0a1760eef'\n",
    "client_secret = 'Dw2u5GaDgNIDQMUNd69KDsmEXKLSiNfxtZBDrhuu'"
   ]
  },
  {
   "cell_type": "code",
   "execution_count": 49,
   "id": "85bea962",
   "metadata": {},
   "outputs": [],
   "source": [
    "# Step 1: Get Access Token\n",
    "def get_access_token():\n",
    "    url = \"https://api.prokerala.com/token\"\n",
    "    data = {'grant_type': 'client_credentials'}\n",
    "    response = requests.post(url, data=data, auth=HTTPBasicAuth(client_id, client_secret))\n",
    "    response.raise_for_status()\n",
    "    return response.json()['access_token']"
   ]
  },
  {
   "cell_type": "markdown",
   "id": "07641274",
   "metadata": {},
   "source": [
    "# PANCHANG"
   ]
  },
  {
   "cell_type": "code",
   "execution_count": 93,
   "id": "a047b81d",
   "metadata": {},
   "outputs": [],
   "source": [
    "# Step 2: Make a Panchang API Call\n",
    "def test_panchang_api(cord,dat):\n",
    "    token = get_access_token()\n",
    "    headers = {'Authorization': f'Bearer {token}'}\n",
    "\n",
    "    # Let requests library handle encoding\n",
    "    params = {\n",
    "        \"ayanamsa\": 1,  # Lahiri\n",
    "        \"coordinates\": cord,\n",
    "        \"datetime\": dat,\n",
    "        \"la\": \"en\"\n",
    "    }\n",
    "\n",
    "    url = \"https://api.prokerala.com/v2/astrology/panchang\"\n",
    "    response = requests.get(url, headers=headers, params=params)\n",
    "    response.raise_for_status()\n",
    "    return response.json()"
   ]
  },
  {
   "cell_type": "code",
   "execution_count": 94,
   "id": "240466af",
   "metadata": {},
   "outputs": [
    {
     "name": "stdout",
     "output_type": "stream",
     "text": [
      "✅ Panchang API Response:\n",
      "{'status': 'ok', 'data': {'vaara': 'Friday', 'nakshatra': [{'id': 20, 'name': 'Uttara Ashadha', 'lord': {'id': 0, 'name': 'Sun', 'vedic_name': 'Ravi'}, 'start': '2025-07-11T05:56:13+05:30', 'end': '2025-07-12T06:36:21+05:30'}], 'tithi': [{'id': 32, 'index': 0, 'name': 'Pratipada', 'paksha': 'Krishna Paksha', 'start': '2025-07-11T02:06:48+05:30', 'end': '2025-07-12T02:09:00+05:30'}, {'id': 33, 'index': 0, 'name': 'Dwitiya', 'paksha': 'Krishna Paksha', 'start': '2025-07-12T02:09:01+05:30', 'end': '2025-07-13T01:46:51+05:30'}], 'karana': [{'index': 0, 'id': 1, 'name': 'Balava', 'start': '2025-07-11T02:06:48+05:30', 'end': '2025-07-11T14:11:07+05:30'}, {'index': 0, 'id': 2, 'name': 'Kaulava', 'start': '2025-07-11T14:11:08+05:30', 'end': '2025-07-12T02:09:00+05:30'}, {'index': 0, 'id': 3, 'name': 'Taitila', 'start': '2025-07-12T02:09:01+05:30', 'end': '2025-07-12T14:00:47+05:30'}], 'yoga': [{'id': 26, 'name': 'Vaidhruthi', 'start': '2025-07-10T21:37:24+05:30', 'end': '2025-07-11T20:44:16+05:30'}, {'id': 0, 'name': 'Vishkambha', 'start': '2025-07-11T20:44:17+05:30', 'end': '2025-07-12T19:31:18+05:30'}], 'sunrise': '2025-07-11T06:14:16+05:30', 'sunset': '2025-07-11T19:06:15+05:30', 'moonrise': '2025-07-11T19:50:35+05:30', 'moonset': '2025-07-12T07:18:18+05:30'}}\n"
     ]
    }
   ],
   "source": [
    "\n",
    "result = test_panchang_api(\"15.5895,73.8131\", \"2025-07-11T10:00:00+05:30\")        \n",
    "print(\"✅ Panchang API Response:\")\n",
    "print(result)\n"
   ]
  },
  {
   "cell_type": "code",
   "execution_count": 104,
   "id": "2d19bdab",
   "metadata": {},
   "outputs": [
    {
     "name": "stdout",
     "output_type": "stream",
     "text": [
      "🌟 Nakshatra: [{'id': 20, 'name': 'Uttara Ashadha', 'lord': {'id': 0, 'name': 'Sun', 'vedic_name': 'Ravi'}, 'start': '2025-07-11T05:56:13+05:30', 'end': '2025-07-12T06:36:21+05:30'}]\n"
     ]
    }
   ],
   "source": [
    "data=result[\"data\"]\n",
    "nak = (data[\"nakshatra\"])\n",
    "print(f\"🌟 Nakshatra: {nak}\")\n",
    "# for i in data:\n",
    "#     print(i,data[i])"
   ]
  },
  {
   "cell_type": "markdown",
   "id": "d941a6ed",
   "metadata": {},
   "source": [
    "# CHOGHADIYA"
   ]
  },
  {
   "cell_type": "code",
   "execution_count": null,
   "id": "60be4987",
   "metadata": {},
   "outputs": [],
   "source": [
    "def test_choghadiya_api(cord, dat):\n",
    "    token = get_access_token()\n",
    "    headers = {'Authorization': f'Bearer {token}'}\n",
    "\n",
    "    params = {\n",
    "        \"ayanamsa\": 1,  # Lahiri\n",
    "        \"coordinates\": cord,\n",
    "        \"datetime\": dat,\n",
    "        \"la\": \"en\"\n",
    "    }\n",
    "\n",
    "    url = \"https://api.prokerala.com/v2/astrology/choghadiya\"\n",
    "    response = requests.get(url, headers=headers, params=params)\n",
    "    response.raise_for_status()\n",
    "    return response.json()\n",
    "\n",
    "\n",
    "\n",
    "def print_good_choghadiya():\n",
    "    data = test_choghadiya_api( \"15.5895,73.8131\",\"2025-07-11T00:00:00+05:30\")\n",
    "    muhurat_list = data.get(\"data\", {}).get(\"muhurat\", [])\n",
    "\n",
    "    # Types considered good (you can modify this as needed)\n",
    "    good_types = {\"Most Auspicious\", \"Good\"}\n",
    "\n",
    "    print(\"\\n✅ Good Choghadiya Time Slots:\\n\")\n",
    "    for block in muhurat_list:\n",
    "        if block[\"type\"] in good_types:\n",
    "            day_night = \"Day\" if block[\"is_day\"] else \"Night\"\n",
    "            print(f\"{block['name']} ({block['type']} - {day_night}) → {block['start']} to {block['end']}\")\n",
    "\n",
    "\n",
    "print_good_choghadiya()"
   ]
  },
  {
   "cell_type": "markdown",
   "id": "c56f0390",
   "metadata": {},
   "source": [
    "# CHANDRABALAM"
   ]
  },
  {
   "cell_type": "code",
   "execution_count": null,
   "id": "f536a95e",
   "metadata": {},
   "outputs": [],
   "source": [
    "def test_chandra_bala_api(cord, dat):\n",
    "    token = get_access_token()\n",
    "    headers = {'Authorization': f'Bearer {token}'}\n",
    "\n",
    "    params = {\n",
    "        \"ayanamsa\": 1,\n",
    "        \"coordinates\": cord,\n",
    "        \"datetime\": dat,\n",
    "        \"la\": \"en\"\n",
    "    }\n",
    "\n",
    "    url = \"https://api.prokerala.com/v2/astrology/chandra-bala\"\n",
    "    response = requests.get(url, headers=headers, params=params)\n",
    "    response.raise_for_status()\n",
    "    return response.json()\n",
    "\n",
    "\n",
    "def print_chandra_bala(your_rashi_name=\"Kumbha\"):\n",
    "    data = test_chandra_bala_api(\"15.5895,73.8131\", \"2025-07-09T00:00:00+05:30\")\n",
    "    windows = data.get(\"data\", {}).get(\"chandra_bala\", [])\n",
    "\n",
    "    favorable_slots = []\n",
    "\n",
    "    for window in windows:\n",
    "        rasis = window.get(\"rasis\", [])\n",
    "        for rashi in rasis:\n",
    "            if rashi[\"name\"].lower() == your_rashi_name.lower():\n",
    "                favorable_slots.append({\n",
    "                    \"start\": window[\"start\"],\n",
    "                    \"end\": window[\"end\"]\n",
    "                })\n",
    "                break\n",
    "\n",
    "    print(f\"\\n🌙 Checking Chandra Bala for Rashi: {your_rashi_name}\")\n",
    "    if favorable_slots:\n",
    "        print(\"✅ Chandra Bala is FAVORABLE in the following time slots:\")\n",
    "        for slot in favorable_slots:\n",
    "            print(f\"→ {slot['start']} to {slot['end']}\")\n",
    "    else:\n",
    "        print(\"❌ Chandra Bala is NOT favorable at any time today.\")\n",
    "\n",
    "print_chandra_bala()\n"
   ]
  },
  {
   "cell_type": "markdown",
   "id": "4e65273d",
   "metadata": {},
   "source": [
    "# TARABALAM"
   ]
  },
  {
   "cell_type": "code",
   "execution_count": null,
   "id": "7d52f1e9",
   "metadata": {},
   "outputs": [
    {
     "name": "stdout",
     "output_type": "stream",
     "text": [
      "Kshema\n",
      "Good\n",
      "2025-07-11T06:12:17+05:30 to 2025-07-12T06:12:37+05:30\n",
      "['Bharani', 'Rohini', 'Mrigashirsha', 'Punarvasu', 'Ashlesha', 'Purva Phalguni', 'Hasta', 'Chitra', 'Vishaka', 'Jyeshta', 'Purva Ashadha', 'Shravana', 'Dhanishta', 'Purva Bhadrapada', 'Revati']\n"
     ]
    }
   ],
   "source": [
    "def get_tara_bala(cord,dat):\n",
    "\n",
    "    token = get_access_token()\n",
    "    headers = {'Authorization': f'Bearer {token}'}\n",
    "\n",
    "    params = {\n",
    "        \"ayanamsa\": 1,\n",
    "        \"coordinates\": cord,  # Mumbai\n",
    "        \"datetime\": dat,\n",
    "        \"la\": \"en\"\n",
    "    }\n",
    "\n",
    "    url = \"https://api.prokerala.com/v2/astrology/tara-bala\"\n",
    "    response = requests.get(url, headers=headers, params=params)\n",
    "    response.raise_for_status()\n",
    "    data = response.json()\n",
    "    return data\n",
    "\n",
    "\n",
    "\n",
    "tardata= get_tara_bala(\"19.0821978,72.7411014\", \"2025-07-11T00:00:00+05:30\")\n",
    "tara = tardata[\"data\"][\"tara_bala\"]\n",
    "for i in tara:\n",
    "    print(i[\"name\"])\n",
    "    print(i[\"type\"])\n",
    "    print(i[\"start\"],\"to\",i[\"end\"])\n",
    "    naks = i[\"nakshatras\"]\n",
    "    nakn=[]\n",
    "    for j in naks:\n",
    "        nakn.append(j['name'])\n",
    "    print(nakn)\n"
   ]
  },
  {
   "cell_type": "markdown",
   "id": "b804c602",
   "metadata": {},
   "source": [
    "# KUNDALI"
   ]
  },
  {
   "cell_type": "code",
   "execution_count": null,
   "id": "2c9f8ed9",
   "metadata": {},
   "outputs": [],
   "source": [
    "def get_birth_details(datetime_iso: str, coordinates: str = \"19.0821978,72.7411014\"):\n",
    "    token = get_access_token()  # This should return your OAuth token\n",
    "    headers = {\"Authorization\": f\"Bearer {token}\"}\n",
    "\n",
    "    params = {\n",
    "        \"ayanamsa\": 1,\n",
    "        \"coordinates\": coordinates,\n",
    "        \"datetime\": datetime_iso,\n",
    "        \"la\": \"en\"\n",
    "    }\n",
    "\n",
    "    url = \"https://api.prokerala.com/v2/astrology/birth-details\"\n",
    "    response = requests.get(url, headers=headers, params=params)\n",
    "    response.raise_for_status()\n",
    "    data = response.json().get(\"data\", {})\n",
    "\n",
    "    # Extract Chandra Rashi (Moon sign) and Nakshatra\n",
    "    chandra_rashi = data.get(\"chandra_rasi\", {}).get(\"name\")\n",
    "    nakshatra = data.get(\"nakshatra\", {}).get(\"name\")\n",
    "    pada = data.get(\"nakshatra\", {}).get(\"pada\")\n",
    "\n",
    "    return chandra_rashi, nakshatra, pada\n",
    "\n",
    "rashi, nakshatra, pada = get_birth_details(\"2004-04-15T04:02:00+05:30\")\n",
    "print(rashi, nakshatra, pada)\n"
   ]
  }
 ],
 "metadata": {
  "kernelspec": {
   "display_name": "Python 3",
   "language": "python",
   "name": "python3"
  },
  "language_info": {
   "codemirror_mode": {
    "name": "ipython",
    "version": 3
   },
   "file_extension": ".py",
   "mimetype": "text/x-python",
   "name": "python",
   "nbconvert_exporter": "python",
   "pygments_lexer": "ipython3",
   "version": "3.11.9"
  }
 },
 "nbformat": 4,
 "nbformat_minor": 5
}
