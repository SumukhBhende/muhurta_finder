{
 "cells": [
  {
   "cell_type": "markdown",
   "id": "ec5bb479",
   "metadata": {},
   "source": [
    "```\n",
    "    ok so this returns chanrabalam is good till what time if chandrabalam is good, else returns next time when chandrabalam will get good. same for tarabalam.\n",
    "\n",
    "    in muhurt logic, I want to give the start date and end date in which i want to check for good muhurt, in those days from 00:00:00 of start date to 23:59:59 of end date i want to check all good chandrabalam durations, all good tarabalam durations and all good choghadiya muhurtas\n",
    "```"
   ]
  },
  {
   "cell_type": "code",
   "execution_count": 1,
   "id": "9432b311",
   "metadata": {},
   "outputs": [],
   "source": [
    "import requests\n",
    "from requests.auth import HTTPBasicAuth\n",
    "import urllib.parse\n",
    "\n",
    "# Replace with your actual credentials\n",
    "client_id = '93140779-b42d-40ab-8444-75b0924debd2'\n",
    "client_secret = 'vb4vQXNijVGgYCh6fSaFfuBoRAclOJT3XnaFsUjf'"
   ]
  },
  {
   "cell_type": "code",
   "execution_count": 2,
   "id": "85bea962",
   "metadata": {},
   "outputs": [],
   "source": [
    "# Step 1: Get Access Token\n",
    "def get_access_token():\n",
    "    url = \"https://api.prokerala.com/token\"\n",
    "    data = {'grant_type': 'client_credentials'}\n",
    "    response = requests.post(url, data=data, auth=HTTPBasicAuth(client_id, client_secret))\n",
    "    response.raise_for_status()\n",
    "    return response.json()['access_token']"
   ]
  },
  {
   "cell_type": "markdown",
   "id": "07641274",
   "metadata": {},
   "source": [
    "# PANCHANG"
   ]
  },
  {
   "cell_type": "code",
   "execution_count": 3,
   "id": "a047b81d",
   "metadata": {},
   "outputs": [],
   "source": [
    "# Step 2: Make a Panchang API Call\n",
    "def test_panchang_api(cord,dat):\n",
    "    token = get_access_token()\n",
    "    headers = {'Authorization': f'Bearer {token}'}\n",
    "\n",
    "    # Let requests library handle encoding\n",
    "    params = {\n",
    "        \"ayanamsa\": 1,  # Lahiri\n",
    "        \"coordinates\": cord,\n",
    "        \"datetime\": dat,\n",
    "        \"la\": \"en\"\n",
    "    }\n",
    "\n",
    "    url = \"https://api.prokerala.com/v2/astrology/panchang\"\n",
    "    response = requests.get(url, headers=headers, params=params)\n",
    "    response.raise_for_status()\n",
    "    return response.json()"
   ]
  },
  {
   "cell_type": "code",
   "execution_count": 4,
   "id": "240466af",
   "metadata": {},
   "outputs": [
    {
     "name": "stdout",
     "output_type": "stream",
     "text": [
      "✅ Panchang API Response:\n",
      "{'status': 'ok', 'data': {'vaara': 'Friday', 'nakshatra': [{'id': 20, 'name': 'Uttara Ashadha', 'lord': {'id': 0, 'name': 'Sun', 'vedic_name': 'Ravi'}, 'start': '2025-07-11T05:56:13+05:30', 'end': '2025-07-12T06:36:21+05:30'}], 'tithi': [{'id': 32, 'index': 0, 'name': 'Pratipada', 'paksha': 'Krishna Paksha', 'start': '2025-07-11T02:06:48+05:30', 'end': '2025-07-12T02:09:00+05:30'}, {'id': 33, 'index': 0, 'name': 'Dwitiya', 'paksha': 'Krishna Paksha', 'start': '2025-07-12T02:09:01+05:30', 'end': '2025-07-13T01:46:51+05:30'}], 'karana': [{'index': 0, 'id': 1, 'name': 'Balava', 'start': '2025-07-11T02:06:48+05:30', 'end': '2025-07-11T14:11:07+05:30'}, {'index': 0, 'id': 2, 'name': 'Kaulava', 'start': '2025-07-11T14:11:08+05:30', 'end': '2025-07-12T02:09:00+05:30'}, {'index': 0, 'id': 3, 'name': 'Taitila', 'start': '2025-07-12T02:09:01+05:30', 'end': '2025-07-12T14:00:47+05:30'}], 'yoga': [{'id': 26, 'name': 'Vaidhruthi', 'start': '2025-07-10T21:37:24+05:30', 'end': '2025-07-11T20:44:16+05:30'}, {'id': 0, 'name': 'Vishkambha', 'start': '2025-07-11T20:44:17+05:30', 'end': '2025-07-12T19:31:18+05:30'}], 'sunrise': '2025-07-11T06:14:16+05:30', 'sunset': '2025-07-11T19:06:15+05:30', 'moonrise': '2025-07-11T19:50:35+05:30', 'moonset': '2025-07-12T07:18:18+05:30'}}\n"
     ]
    }
   ],
   "source": [
    "\n",
    "result = test_panchang_api(\"15.5895,73.8131\", \"2025-07-11T10:00:00+05:30\")        \n",
    "print(\"✅ Panchang API Response:\")\n",
    "print(result)\n"
   ]
  },
  {
   "cell_type": "code",
   "execution_count": 5,
   "id": "2d19bdab",
   "metadata": {},
   "outputs": [
    {
     "name": "stdout",
     "output_type": "stream",
     "text": [
      "vaara Friday\n",
      "nakshatra [{'id': 20, 'name': 'Uttara Ashadha', 'lord': {'id': 0, 'name': 'Sun', 'vedic_name': 'Ravi'}, 'start': '2025-07-11T05:56:13+05:30', 'end': '2025-07-12T06:36:21+05:30'}]\n",
      "tithi [{'id': 32, 'index': 0, 'name': 'Pratipada', 'paksha': 'Krishna Paksha', 'start': '2025-07-11T02:06:48+05:30', 'end': '2025-07-12T02:09:00+05:30'}, {'id': 33, 'index': 0, 'name': 'Dwitiya', 'paksha': 'Krishna Paksha', 'start': '2025-07-12T02:09:01+05:30', 'end': '2025-07-13T01:46:51+05:30'}]\n",
      "karana [{'index': 0, 'id': 1, 'name': 'Balava', 'start': '2025-07-11T02:06:48+05:30', 'end': '2025-07-11T14:11:07+05:30'}, {'index': 0, 'id': 2, 'name': 'Kaulava', 'start': '2025-07-11T14:11:08+05:30', 'end': '2025-07-12T02:09:00+05:30'}, {'index': 0, 'id': 3, 'name': 'Taitila', 'start': '2025-07-12T02:09:01+05:30', 'end': '2025-07-12T14:00:47+05:30'}]\n",
      "yoga [{'id': 26, 'name': 'Vaidhruthi', 'start': '2025-07-10T21:37:24+05:30', 'end': '2025-07-11T20:44:16+05:30'}, {'id': 0, 'name': 'Vishkambha', 'start': '2025-07-11T20:44:17+05:30', 'end': '2025-07-12T19:31:18+05:30'}]\n",
      "sunrise 2025-07-11T06:14:16+05:30\n",
      "sunset 2025-07-11T19:06:15+05:30\n",
      "moonrise 2025-07-11T19:50:35+05:30\n",
      "moonset 2025-07-12T07:18:18+05:30\n"
     ]
    }
   ],
   "source": [
    "data=result[\"data\"]\n",
    "for i in data:\n",
    "    print(i,data[i])"
   ]
  },
  {
   "cell_type": "markdown",
   "id": "d941a6ed",
   "metadata": {},
   "source": [
    "# CHOGHADIYA"
   ]
  },
  {
   "cell_type": "code",
   "execution_count": 6,
   "id": "60be4987",
   "metadata": {},
   "outputs": [],
   "source": [
    "def test_choghadiya_api(cord, dat):\n",
    "    token = get_access_token()\n",
    "    headers = {'Authorization': f'Bearer {token}'}\n",
    "\n",
    "    params = {\n",
    "        \"ayanamsa\": 1,  # Lahiri\n",
    "        \"coordinates\": cord,\n",
    "        \"datetime\": dat,\n",
    "        \"la\": \"en\"\n",
    "    }\n",
    "\n",
    "    url = \"https://api.prokerala.com/v2/astrology/choghadiya\"\n",
    "    response = requests.get(url, headers=headers, params=params)\n",
    "    response.raise_for_status()\n",
    "    return response.json()\n"
   ]
  },
  {
   "cell_type": "code",
   "execution_count": 7,
   "id": "ec303b7e",
   "metadata": {},
   "outputs": [],
   "source": [
    "def print_good_choghadiya():\n",
    "    data = test_choghadiya_api( \"15.5895,73.8131\",\"2025-07-11T00:00:00+05:30\")\n",
    "    muhurat_list = data.get(\"data\", {}).get(\"muhurat\", [])\n",
    "\n",
    "    # Types considered good (you can modify this as needed)\n",
    "    good_types = {\"Most Auspicious\", \"Good\"}\n",
    "\n",
    "    print(\"\\n✅ Good Choghadiya Time Slots:\\n\")\n",
    "    for block in muhurat_list:\n",
    "        if block[\"type\"] in good_types:\n",
    "            day_night = \"Day\" if block[\"is_day\"] else \"Night\"\n",
    "            print(f\"{block['name']} ({block['type']} - {day_night}) → {block['start']} to {block['end']}\")\n"
   ]
  },
  {
   "cell_type": "code",
   "execution_count": 8,
   "id": "9a39e737",
   "metadata": {},
   "outputs": [
    {
     "name": "stdout",
     "output_type": "stream",
     "text": [
      "\n",
      "✅ Good Choghadiya Time Slots:\n",
      "\n",
      "Char (Good - Day) → 2025-07-11T06:14:16+05:30 to 2025-07-11T07:50:45+05:30\n",
      "Labh (Most Auspicious - Day) → 2025-07-11T07:50:45+05:30 to 2025-07-11T09:27:14+05:30\n",
      "Shubh (Most Auspicious - Day) → 2025-07-11T12:40:12+05:30 to 2025-07-11T14:16:41+05:30\n",
      "Char (Good - Day) → 2025-07-11T17:29:39+05:30 to 2025-07-11T19:06:08+05:30\n",
      "Shubh (Most Auspicious - Night) → 2025-07-12T00:40:23+05:30 to 2025-07-12T02:03:55+05:30\n",
      "Amrut (Most Auspicious - Night) → 2025-07-12T02:03:55+05:30 to 2025-07-12T03:27:27+05:30\n",
      "Char (Good - Night) → 2025-07-12T03:27:27+05:30 to 2025-07-12T04:50:59+05:30\n"
     ]
    }
   ],
   "source": [
    "print_good_choghadiya()"
   ]
  },
  {
   "cell_type": "markdown",
   "id": "c56f0390",
   "metadata": {},
   "source": [
    "# CHANDRABALAM"
   ]
  },
  {
   "cell_type": "code",
   "execution_count": 9,
   "id": "9749d799",
   "metadata": {},
   "outputs": [],
   "source": [
    "def test_chandra_bala_api(cord, dat):\n",
    "    token = get_access_token()\n",
    "    headers = {'Authorization': f'Bearer {token}'}\n",
    "\n",
    "    params = {\n",
    "        \"ayanamsa\": 1,\n",
    "        \"coordinates\": cord,\n",
    "        \"datetime\": dat,\n",
    "        \"la\": \"en\"\n",
    "    }\n",
    "\n",
    "    url = \"https://api.prokerala.com/v2/astrology/chandra-bala\"\n",
    "    response = requests.get(url, headers=headers, params=params)\n",
    "    response.raise_for_status()\n",
    "    return response.json()\n"
   ]
  },
  {
   "cell_type": "code",
   "execution_count": 10,
   "id": "f536a95e",
   "metadata": {},
   "outputs": [],
   "source": [
    "def print_chandra_bala(your_rashi_name=\"Kumbha\"):\n",
    "    data = test_chandra_bala_api(\"15.5895,73.8131\", \"2025-07-09T00:00:00+05:30\")\n",
    "    windows = data.get(\"data\", {}).get(\"chandra_bala\", [])\n",
    "\n",
    "    favorable_slots = []\n",
    "\n",
    "    for window in windows:\n",
    "        rasis = window.get(\"rasis\", [])\n",
    "        for rashi in rasis:\n",
    "            if rashi[\"name\"].lower() == your_rashi_name.lower():\n",
    "                favorable_slots.append({\n",
    "                    \"start\": window[\"start\"],\n",
    "                    \"end\": window[\"end\"]\n",
    "                })\n",
    "                break\n",
    "\n",
    "    print(f\"\\n🌙 Checking Chandra Bala for Rashi: {your_rashi_name}\")\n",
    "    if favorable_slots:\n",
    "        print(\"✅ Chandra Bala is FAVORABLE in the following time slots:\")\n",
    "        for slot in favorable_slots:\n",
    "            print(f\"→ {slot['start']} to {slot['end']}\")\n",
    "    else:\n",
    "        print(\"❌ Chandra Bala is NOT favorable at any time today.\")\n"
   ]
  },
  {
   "cell_type": "code",
   "execution_count": 11,
   "id": "98067d26",
   "metadata": {},
   "outputs": [
    {
     "name": "stdout",
     "output_type": "stream",
     "text": [
      "\n",
      "🌙 Checking Chandra Bala for Rashi: Kumbha\n",
      "✅ Chandra Bala is FAVORABLE in the following time slots:\n",
      "→ 2025-07-09T06:13:40+05:30 to 2025-07-10T06:13:57+05:30\n"
     ]
    }
   ],
   "source": [
    "print_chandra_bala()"
   ]
  },
  {
   "cell_type": "markdown",
   "id": "4e65273d",
   "metadata": {},
   "source": [
    "# TARABALAM"
   ]
  },
  {
   "cell_type": "code",
   "execution_count": 12,
   "id": "a3ab78d2",
   "metadata": {},
   "outputs": [],
   "source": [
    "nakshatra_map = {\n",
    "    \"Ashwini\": 1, \"Bharani\": 2, \"Krittika\": 3, \"Rohini\": 4, \"Mrigashira\": 5,\n",
    "    \"Ardra\": 6, \"Punarvasu\": 7, \"Pushya\": 8, \"Ashlesha\": 9, \"Magha\": 10,\n",
    "    \"Purva Phalguni\": 11, \"Uttara Phalguni\": 12, \"Hasta\": 13, \"Chitra\": 14,\n",
    "    \"Swati\": 15, \"Vishakha\": 16, \"Anuradha\": 17, \"Jyeshtha\": 18, \"Mula\": 19,\n",
    "    \"Purva Ashadha\": 20, \"Uttara Ashadha\": 21, \"Shravana\": 22, \"Dhanishta\": 23,\n",
    "    \"Shatabhisha\": 24, \"Purva Bhadrapada\": 25, \"Uttara Bhadrapada\": 26, \"Revati\": 27\n",
    "}\n"
   ]
  },
  {
   "cell_type": "code",
   "execution_count": 25,
   "id": "7d52f1e9",
   "metadata": {},
   "outputs": [],
   "source": [
    "def test_tara_bala_api():\n",
    "    token = get_access_token()\n",
    "    headers = {'Authorization': f'Bearer {token}'}\n",
    "\n",
    "    params = {\n",
    "        \"ayanamsa\": 1,\n",
    "        \"coordinates\": \"15.5895,73.8131\",\n",
    "        \"datetime\": \"2025-07-11T00:00:00+05:30\",\n",
    "        \"la\": \"en\"\n",
    "    }\n",
    "\n",
    "    url = \"https://api.prokerala.com/v2/astrology/tara-bala\"\n",
    "    response = requests.get(url, headers=headers, params=params)\n",
    "    response.raise_for_status()\n",
    "    return response.json()\n"
   ]
  },
  {
   "cell_type": "code",
   "execution_count": null,
   "id": "aae6bc74",
   "metadata": {},
   "outputs": [],
   "source": [
    "def print_tara_bala(nakshatra_name):\n",
    "    tara_balas = mock_tara_bala_data.get(\"data\", {}).get(\"tara_bala\", [])\n",
    "    found = False\n",
    "\n",
    "    for block in tara_balas:\n",
    "        for nak in block.get(\"nakshatras\", []):\n",
    "            if nak.get(\"name\") == nakshatra_name:\n",
    "                start = block.get(\"start\")\n",
    "                end = block.get(\"end\")\n",
    "                tara_type = block.get(\"type\")\n",
    "                tara_name = block.get(\"name\")\n",
    "\n",
    "                print(f\"🌟 Tara Bala for Nakshatra: {nakshatra_name}\")\n",
    "                print(f\"🕒 Time Window: {start} ➡ {end}\")\n",
    "                print(f\"🔢 Tara Type: {tara_name} ({tara_type})\")\n",
    "                if tara_type in [\"Good\", \"Very Good\"]:\n",
    "                    print(\"✅ Tara Bala is favorable\")\n",
    "                else:\n",
    "                    print(\"❌ Tara Bala is NOT favorable\")\n",
    "                found = True\n",
    "                break\n",
    "        if found:\n",
    "            break\n",
    "\n",
    "    if not found:\n",
    "        print(f\"❌ Nakshatra {nakshatra_name} not found in any Tara Bala period.\")"
   ]
  },
  {
   "cell_type": "code",
   "execution_count": 27,
   "id": "da133397",
   "metadata": {},
   "outputs": [
    {
     "ename": "HTTPError",
     "evalue": "403 Client Error: Forbidden for url: https://api.prokerala.com/v2/astrology/tara-bala?ayanamsa=1&coordinates=15.5895%2C73.8131&datetime=2025-07-11T00%3A00%3A00%2B05%3A30&la=en",
     "output_type": "error",
     "traceback": [
      "\u001b[1;31m---------------------------------------------------------------------------\u001b[0m",
      "\u001b[1;31mHTTPError\u001b[0m                                 Traceback (most recent call last)",
      "Cell \u001b[1;32mIn[27], line 1\u001b[0m\n\u001b[1;32m----> 1\u001b[0m \u001b[43mprint_tara_bala\u001b[49m\u001b[43m(\u001b[49m\u001b[38;5;124;43m\"\u001b[39;49m\u001b[38;5;124;43mShatabhisha\u001b[39;49m\u001b[38;5;124;43m\"\u001b[39;49m\u001b[43m)\u001b[49m\n",
      "Cell \u001b[1;32mIn[26], line 13\u001b[0m, in \u001b[0;36mprint_tara_bala\u001b[1;34m(nakshatra_name)\u001b[0m\n\u001b[0;32m     11\u001b[0m url \u001b[38;5;241m=\u001b[39m \u001b[38;5;124m\"\u001b[39m\u001b[38;5;124mhttps://api.prokerala.com/v2/astrology/tara-bala\u001b[39m\u001b[38;5;124m\"\u001b[39m\n\u001b[0;32m     12\u001b[0m response \u001b[38;5;241m=\u001b[39m requests\u001b[38;5;241m.\u001b[39mget(url, headers\u001b[38;5;241m=\u001b[39mheaders, params\u001b[38;5;241m=\u001b[39mparams)\n\u001b[1;32m---> 13\u001b[0m \u001b[43mresponse\u001b[49m\u001b[38;5;241;43m.\u001b[39;49m\u001b[43mraise_for_status\u001b[49m\u001b[43m(\u001b[49m\u001b[43m)\u001b[49m\n\u001b[0;32m     14\u001b[0m result \u001b[38;5;241m=\u001b[39m response\u001b[38;5;241m.\u001b[39mjson()\n\u001b[0;32m     16\u001b[0m tara_blocks \u001b[38;5;241m=\u001b[39m result\u001b[38;5;241m.\u001b[39mget(\u001b[38;5;124m\"\u001b[39m\u001b[38;5;124mdata\u001b[39m\u001b[38;5;124m\"\u001b[39m, {})\u001b[38;5;241m.\u001b[39mget(\u001b[38;5;124m\"\u001b[39m\u001b[38;5;124mtara_bala\u001b[39m\u001b[38;5;124m\"\u001b[39m, [])\n",
      "File \u001b[1;32mc:\\Users\\Sumatrix\\AppData\\Local\\Programs\\Python\\Python311\\Lib\\site-packages\\requests\\models.py:1024\u001b[0m, in \u001b[0;36mResponse.raise_for_status\u001b[1;34m(self)\u001b[0m\n\u001b[0;32m   1019\u001b[0m     http_error_msg \u001b[38;5;241m=\u001b[39m (\n\u001b[0;32m   1020\u001b[0m         \u001b[38;5;124mf\u001b[39m\u001b[38;5;124m\"\u001b[39m\u001b[38;5;132;01m{\u001b[39;00m\u001b[38;5;28mself\u001b[39m\u001b[38;5;241m.\u001b[39mstatus_code\u001b[38;5;132;01m}\u001b[39;00m\u001b[38;5;124m Server Error: \u001b[39m\u001b[38;5;132;01m{\u001b[39;00mreason\u001b[38;5;132;01m}\u001b[39;00m\u001b[38;5;124m for url: \u001b[39m\u001b[38;5;132;01m{\u001b[39;00m\u001b[38;5;28mself\u001b[39m\u001b[38;5;241m.\u001b[39murl\u001b[38;5;132;01m}\u001b[39;00m\u001b[38;5;124m\"\u001b[39m\n\u001b[0;32m   1021\u001b[0m     )\n\u001b[0;32m   1023\u001b[0m \u001b[38;5;28;01mif\u001b[39;00m http_error_msg:\n\u001b[1;32m-> 1024\u001b[0m     \u001b[38;5;28;01mraise\u001b[39;00m HTTPError(http_error_msg, response\u001b[38;5;241m=\u001b[39m\u001b[38;5;28mself\u001b[39m)\n",
      "\u001b[1;31mHTTPError\u001b[0m: 403 Client Error: Forbidden for url: https://api.prokerala.com/v2/astrology/tara-bala?ayanamsa=1&coordinates=15.5895%2C73.8131&datetime=2025-07-11T00%3A00%3A00%2B05%3A30&la=en"
     ]
    }
   ],
   "source": [
    "print_tara_bala(\"Shatabhisha\")\n"
   ]
  },
  {
   "cell_type": "code",
   "execution_count": null,
   "id": "7924af5f",
   "metadata": {},
   "outputs": [],
   "source": []
  }
 ],
 "metadata": {
  "kernelspec": {
   "display_name": "Python 3",
   "language": "python",
   "name": "python3"
  },
  "language_info": {
   "codemirror_mode": {
    "name": "ipython",
    "version": 3
   },
   "file_extension": ".py",
   "mimetype": "text/x-python",
   "name": "python",
   "nbconvert_exporter": "python",
   "pygments_lexer": "ipython3",
   "version": "3.11.9"
  }
 },
 "nbformat": 4,
 "nbformat_minor": 5
}
